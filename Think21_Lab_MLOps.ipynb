{
 "cells": [
  {
   "cell_type": "code",
   "execution_count": null,
   "id": "a31a3378",
   "metadata": {},
   "outputs": [],
   "source": [
    "!git clone --recursive https://github.com/CODAIT/covid-trusted-ai-pipeline"
   ]
  },
  {
   "cell_type": "code",
   "execution_count": null,
   "id": "052ee66c",
   "metadata": {},
   "outputs": [],
   "source": [
    "!cd covid-trusted-ai-pipeline/component-library && git checkout elyra1407"
   ]
  }
 ],
 "metadata": {
  "kernelspec": {
   "display_name": "Python 3",
   "language": "python",
   "name": "python3"
  },
  "language_info": {
   "codemirror_mode": {
    "name": "ipython",
    "version": 3
   },
   "file_extension": ".py",
   "mimetype": "text/x-python",
   "name": "python",
   "nbconvert_exporter": "python",
   "pygments_lexer": "ipython3",
   "version": "3.8.6"
  }
 },
 "nbformat": 4,
 "nbformat_minor": 5
}
